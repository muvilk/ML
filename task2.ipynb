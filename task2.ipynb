{
 "cells": [
  {
   "cell_type": "code",
   "execution_count": 5,
   "metadata": {},
   "outputs": [
    {
     "name": "stdout",
     "output_type": "stream",
     "text": [
      "Accuracy: 64.24%\n",
      "Macro F1 Score: 0.54\n",
      "PCA Components:\n",
      "[[-0.4318212  -0.18671266 -0.34890395 ... -0.66894625  0.98982921\n",
      "  -0.06042008]\n",
      " [ 0.41632078 -0.02333871  0.11932892 ... -1.10194011  1.48708064\n",
      "  -0.13697529]\n",
      " [ 0.17410117 -0.29091741  0.08949273 ...  0.22600783 -0.52867027\n",
      "   0.76396896]\n",
      " ...\n",
      " [ 0.27836429 -0.2422294  -0.5417945  ... -0.41260028  2.59672937\n",
      "  -1.20860023]\n",
      " [-0.10777522 -0.10739739 -0.03980328 ...  0.46834836 -0.36716416\n",
      "  -0.30179735]\n",
      " [-0.4892356  -0.04338433 -0.0978672  ... -0.38149282  1.81966848\n",
      "  -0.76159285]]\n"
     ]
    }
   ],
   "source": [
    "import numpy as np\n",
    "import pandas as pd\n",
    "from sklearn.preprocessing import StandardScaler\n",
    "from sklearn.decomposition import PCA\n",
    "from sklearn.neighbors import KNeighborsClassifier\n",
    "from sklearn.model_selection import train_test_split\n",
    "from sklearn.metrics import accuracy_score, f1_score\n",
    "\n",
    "# Sample data\n",
    "# Replace with your dataset\n",
    "df = pd.read_csv('data/train_tfidf_features.csv')\n",
    "\n",
    "# Separate features and labels\n",
    "X = df.drop(columns=['id', 'label'])\n",
    "y = df['label']\n",
    "\n",
    "# Standardize the features\n",
    "scaler = StandardScaler()\n",
    "X_scaled = scaler.fit_transform(X)\n",
    "\n",
    "# Apply PCA\n",
    "pca = PCA(n_components=500)  # Reduce to 1000 dimensions, adjust as needed\n",
    "X_pca = pca.fit_transform(X_scaled)\n",
    "\n",
    "# Split the dataset into training and testing sets\n",
    "X_train, X_test, y_train, y_test = train_test_split(X_pca, y, test_size=0.2, random_state=42)\n",
    "\n",
    "# Train the k-NN classifier\n",
    "knn = KNeighborsClassifier(n_neighbors=2)\n",
    "knn.fit(X_train, y_train)\n",
    "\n",
    "# Make predictions\n",
    "y_pred = knn.predict(X_test)\n",
    "\n",
    "# Evaluate the model\n",
    "accuracy = accuracy_score(y_test, y_pred)\n",
    "macro_f1 = f1_score(y_test, y_pred, average='macro')\n",
    "\n",
    "print(f'Accuracy: {accuracy * 100:.2f}%')\n",
    "print(f'Macro F1 Score: {macro_f1:.2f}')\n",
    "\n",
    "# Output PCA components for visualization (optional)\n",
    "print('PCA Components:')\n",
    "print(X_pca)\n"
   ]
  },
  {
   "cell_type": "code",
   "execution_count": null,
   "metadata": {},
   "outputs": [],
   "source": []
  }
 ],
 "metadata": {
  "kernelspec": {
   "display_name": "Python 3",
   "language": "python",
   "name": "python3"
  },
  "language_info": {
   "codemirror_mode": {
    "name": "ipython",
    "version": 3
   },
   "file_extension": ".py",
   "mimetype": "text/x-python",
   "name": "python",
   "nbconvert_exporter": "python",
   "pygments_lexer": "ipython3",
   "version": "3.11.9"
  },
  "orig_nbformat": 4
 },
 "nbformat": 4,
 "nbformat_minor": 2
}
