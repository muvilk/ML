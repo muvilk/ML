{
 "cells": [
  {
   "cell_type": "markdown",
   "id": "10d1fb90",
   "metadata": {},
   "source": [
    "# Task 2: Apply dimension reduction techniques"
   ]
  },
  {
   "cell_type": "markdown",
   "id": "51fe2e2d",
   "metadata": {},
   "source": [
    "Code implementation of PCA on the train set. Like with Task 1, we split the training set 80-20 to create training and validation set to evaluate the model. "
   ]
  },
  {
   "cell_type": "code",
   "execution_count": 1,
   "id": "b445dd84",
   "metadata": {},
   "outputs": [
    {
     "name": "stdout",
     "output_type": "stream",
     "text": [
      "Accuracy: 62.96%\n",
      "Macro F1 Score: 0.53\n"
     ]
    },
    {
     "name": "stderr",
     "output_type": "stream",
     "text": [
      "c:\\Users\\User\\anaconda3\\lib\\site-packages\\sklearn\\neighbors\\_classification.py:228: FutureWarning: Unlike other reduction functions (e.g. `skew`, `kurtosis`), the default behavior of `mode` typically preserves the axis it acts along. In SciPy 1.11.0, this behavior will change: the default value of `keepdims` will become False, the `axis` over which the statistic is taken will be eliminated, and the value None will no longer be accepted. Set `keepdims` to True or False to avoid this warning.\n",
      "  mode, _ = stats.mode(_y[neigh_ind, k], axis=1)\n"
     ]
    }
   ],
   "source": [
    "import numpy as np\n",
    "import pandas as pd\n",
    "from sklearn.preprocessing import StandardScaler\n",
    "from sklearn.decomposition import PCA\n",
    "from sklearn.neighbors import KNeighborsClassifier\n",
    "from sklearn.model_selection import train_test_split\n",
    "from sklearn.metrics import accuracy_score, f1_score\n",
    "\n",
    "#reading data\n",
    "df = pd.read_csv('data/train_tfidf_features.csv')\n",
    "\n",
    "# Separate features and labels\n",
    "X = df.drop(columns=['id', 'label'])\n",
    "y = df['label']\n",
    "\n",
    "# Standardize the features\n",
    "scaler = StandardScaler()\n",
    "X_scaled = scaler.fit_transform(X)\n",
    "\n",
    "# Apply PCA\n",
    "pca = PCA(n_components=2000)  # Reduce to 2000 dimensions, adjust as needed\n",
    "X_pca = pca.fit_transform(X_scaled)\n",
    "\n",
    "# Split the dataset into training and validation sets\n",
    "X_train, X_val, y_train, y_val = train_test_split(X_pca, y, test_size=0.2, random_state=42)\n",
    "\n",
    "# Train the k-NN classifier\n",
    "knn = KNeighborsClassifier(n_neighbors=2)\n",
    "knn.fit(X_train, y_train)\n",
    "\n",
    "# Make predictions\n",
    "y_pred = knn.predict(X_val)\n",
    "\n",
    "# Evaluate the model\n",
    "accuracy = accuracy_score(y_val, y_pred)\n",
    "macro_f1 = f1_score(y_val, y_pred, average='macro')\n",
    "\n",
    "print(f'Accuracy: {accuracy * 100:.2f}%')\n",
    "print(f'Macro F1 Score: {macro_f1:.2f}')"
   ]
  },
  {
   "cell_type": "markdown",
   "id": "393276bb",
   "metadata": {},
   "source": [
    "Expected accuracy: 62.70%\n",
    "Expected macro f1 score: 0.53"
   ]
  },
  {
   "cell_type": "markdown",
   "id": "add8d4d3",
   "metadata": {},
   "source": [
    "We can see from the poor accuracy and macro f1 score that further reduction of dimensions does not always result in a good model."
   ]
  },
  {
   "cell_type": "markdown",
   "id": "4cb00f07",
   "metadata": {},
   "source": [
    "Now we can train the model using 100% of the training set and predict against the test set."
   ]
  },
  {
   "cell_type": "markdown",
   "id": "a51580d0",
   "metadata": {},
   "source": [
    "For 2000 components:"
   ]
  },
  {
   "cell_type": "code",
   "execution_count": 2,
   "id": "bb24800c",
   "metadata": {},
   "outputs": [
    {
     "name": "stderr",
     "output_type": "stream",
     "text": [
      "c:\\Users\\User\\anaconda3\\lib\\site-packages\\sklearn\\neighbors\\_classification.py:228: FutureWarning: Unlike other reduction functions (e.g. `skew`, `kurtosis`), the default behavior of `mode` typically preserves the axis it acts along. In SciPy 1.11.0, this behavior will change: the default value of `keepdims` will become False, the `axis` over which the statistic is taken will be eliminated, and the value None will no longer be accepted. Set `keepdims` to True or False to avoid this warning.\n",
      "  mode, _ = stats.mode(_y[neigh_ind, k], axis=1)\n"
     ]
    }
   ],
   "source": [
    "# Load training data\n",
    "data = pd.read_csv(\"Data/train_tfidf_features.csv\")\n",
    "X_features = data.drop(['label', 'id'], axis=1).values\n",
    "Y_label = data['label'].values\n",
    "\n",
    "# Load test data\n",
    "test = pd.read_csv(\"Data/test_tfidf_features.csv\")\n",
    "X_test = test.drop(['id'], axis=1).values\n",
    "\n",
    "\n",
    "# Standardize the features\n",
    "scaler = StandardScaler()\n",
    "X_scaled = scaler.fit_transform(X_features)\n",
    "X_test_scaled = scaler.transform(X_test)\n",
    "\n",
    "# Apply PCA\n",
    "pca = PCA(n_components=2000)  # Reduce to 2000 dimensions\n",
    "X_pca = pca.fit_transform(X_scaled)\n",
    "X_test_pca = pca.transform(X_test_scaled) #apply same PCA transformation to test data\n",
    "\n",
    "# Train the k-NN classifier\n",
    "knn = KNeighborsClassifier(n_neighbors=2)\n",
    "knn.fit(X_pca, Y_label)\n",
    "\n",
    "# Make predictions\n",
    "y_pred = knn.predict(X_test_pca)\n",
    "\n",
    "# Save the predictions to a CSV file\n",
    "predictions_df = pd.DataFrame({'id': test['id'], 'label': y_pred})\n",
    "#predictions_df.to_csv('PCA2000_Prediction.csv', index=False)   #uncomment to get file, otherwise, can be found in Task2_predictions"
   ]
  },
  {
   "cell_type": "markdown",
   "id": "18a19482",
   "metadata": {},
   "source": [
    "From Kaggle, the macro f1 score is: 0.54492"
   ]
  },
  {
   "cell_type": "markdown",
   "id": "d55ec5fd",
   "metadata": {},
   "source": [
    "For 1000 components:"
   ]
  },
  {
   "cell_type": "code",
   "execution_count": null,
   "id": "6447ba24",
   "metadata": {},
   "outputs": [],
   "source": [
    "# Load training data\n",
    "data = pd.read_csv(\"Data/train_tfidf_features.csv\")\n",
    "X_features = data.drop(['label', 'id'], axis=1).values\n",
    "Y_label = data['label'].values\n",
    "\n",
    "# Load test data\n",
    "test = pd.read_csv(\"Data/test_tfidf_features.csv\")\n",
    "X_test = test.drop(['id'], axis=1).values\n",
    "\n",
    "\n",
    "# Standardize the features\n",
    "scaler = StandardScaler()\n",
    "X_scaled = scaler.fit_transform(X_features)\n",
    "X_test_scaled = scaler.transform(X_test)\n",
    "\n",
    "# Apply PCA\n",
    "pca = PCA(n_components=1000)  # Reduce to 1000 dimensions\n",
    "X_pca = pca.fit_transform(X_scaled)\n",
    "X_test_pca = pca.transform(X_test_scaled) #apply same PCA transformation to test data\n",
    "\n",
    "# Train the k-NN classifier\n",
    "knn = KNeighborsClassifier(n_neighbors=2)\n",
    "knn.fit(X_pca, Y_label)\n",
    "\n",
    "# Make predictions\n",
    "y_pred = knn.predict(X_test_pca)\n",
    "\n",
    "# Save the predictions to a CSV file\n",
    "predictions_df = pd.DataFrame({'id': test['id'], 'label': y_pred})\n",
    "#predictions_df.to_csv('PCA1000_Prediction.csv', index=False) #uncomment to get file, otherwise, can be found in Task2_predictions"
   ]
  },
  {
   "cell_type": "markdown",
   "id": "f83ec6c8",
   "metadata": {},
   "source": [
    "From Kaggle, the macro f1 score is: 0.55338"
   ]
  },
  {
   "cell_type": "markdown",
   "id": "d9031b0b",
   "metadata": {},
   "source": [
    "For 500 components:"
   ]
  },
  {
   "cell_type": "code",
   "execution_count": null,
   "id": "b3583953",
   "metadata": {},
   "outputs": [],
   "source": [
    "# Load training data\n",
    "data = pd.read_csv(\"Data/train_tfidf_features.csv\")\n",
    "X_features = data.drop(['label', 'id'], axis=1).values\n",
    "Y_label = data['label'].values\n",
    "\n",
    "# Load test data\n",
    "test = pd.read_csv(\"Data/test_tfidf_features.csv\")\n",
    "X_test = test.drop(['id'], axis=1).values\n",
    "\n",
    "\n",
    "# Standardize the features\n",
    "scaler = StandardScaler()\n",
    "X_scaled = scaler.fit_transform(X_features)\n",
    "X_test_scaled = scaler.transform(X_test)\n",
    "\n",
    "# Apply PCA\n",
    "pca = PCA(n_components=500)  # Reduce to 500 dimensions\n",
    "X_pca = pca.fit_transform(X_scaled)\n",
    "X_test_pca = pca.transform(X_test_scaled) #apply same PCA transformation to test data\n",
    "\n",
    "# Train the k-NN classifier\n",
    "knn = KNeighborsClassifier(n_neighbors=2)\n",
    "knn.fit(X_pca, Y_label)\n",
    "\n",
    "# Make predictions\n",
    "y_pred = knn.predict(X_test_pca)\n",
    "\n",
    "# Save the predictions to a CSV file\n",
    "predictions_df = pd.DataFrame({'id': test['id'], 'label': y_pred})\n",
    "#predictions_df.to_csv('PCA500_Prediction.csv', index=False) #uncomment to get file, otherwise, can be found in Task2_predictions"
   ]
  },
  {
   "cell_type": "markdown",
   "id": "749279f2",
   "metadata": {},
   "source": [
    "From Kaggle, the macro f1 score is: 0.56150"
   ]
  },
  {
   "cell_type": "markdown",
   "id": "009bd22a",
   "metadata": {},
   "source": [
    "For 100 components"
   ]
  },
  {
   "cell_type": "code",
   "execution_count": null,
   "id": "b4a02b6f",
   "metadata": {},
   "outputs": [],
   "source": [
    "# Load training data\n",
    "data = pd.read_csv(\"Data/train_tfidf_features.csv\")\n",
    "X_features = data.drop(['label', 'id'], axis=1).values\n",
    "Y_label = data['label'].values\n",
    "\n",
    "# Load test data\n",
    "test = pd.read_csv(\"Data/test_tfidf_features.csv\")\n",
    "X_test = test.drop(['id'], axis=1).values\n",
    "\n",
    "\n",
    "# Standardize the features\n",
    "scaler = StandardScaler()\n",
    "X_scaled = scaler.fit_transform(X_features)\n",
    "X_test_scaled = scaler.transform(X_test)\n",
    "\n",
    "# Apply PCA\n",
    "pca = PCA(n_components=100)  # Reduce to 100 dimensions\n",
    "X_pca = pca.fit_transform(X_scaled)\n",
    "X_test_pca = pca.transform(X_test_scaled) #apply same PCA transformation to test data\n",
    "\n",
    "# Train the k-NN classifier\n",
    "knn = KNeighborsClassifier(n_neighbors=2)\n",
    "knn.fit(X_pca, Y_label)\n",
    "\n",
    "# Make predictions\n",
    "y_pred = knn.predict(X_test_pca)\n",
    "\n",
    "# Save the predictions to a CSV file\n",
    "predictions_df = pd.DataFrame({'id': test['id'], 'label': y_pred})\n",
    "#predictions_df.to_csv('PCA100_Prediction.csv', index=False) #uncomment to get file, otherwise, can be found in Task2_predictions"
   ]
  },
  {
   "cell_type": "markdown",
   "id": "eb5fd396",
   "metadata": {},
   "source": [
    "From Kaggle, the macro f1 score is: 0.57033"
   ]
  }
 ],
 "metadata": {
  "kernelspec": {
   "display_name": "Python 3 (ipykernel)",
   "language": "python",
   "name": "python3"
  },
  "language_info": {
   "codemirror_mode": {
    "name": "ipython",
    "version": 3
   },
   "file_extension": ".py",
   "mimetype": "text/x-python",
   "name": "python",
   "nbconvert_exporter": "python",
   "pygments_lexer": "ipython3",
   "version": "3.9.13"
  }
 },
 "nbformat": 4,
 "nbformat_minor": 5
}
