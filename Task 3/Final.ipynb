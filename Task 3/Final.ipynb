{
 "cells": [
  {
   "cell_type": "markdown",
   "metadata": {},
   "source": [
    "Avengers Ensemble Method"
   ]
  },
  {
   "cell_type": "code",
   "execution_count": 4,
   "metadata": {},
   "outputs": [
    {
     "name": "stdout",
     "output_type": "stream",
     "text": [
      "      id  pred1  pred2  pred3  pred4  pred5  label\n",
      "0  17185      0      1      0      0      0      0\n",
      "1  17186      0      0      0      0      0      0\n",
      "2  17187      1      1      1      1      1      1\n",
      "3  17188      0      0      0      0      0      0\n",
      "4  17189      0      0      0      0      0      0\n"
     ]
    }
   ],
   "source": [
    "import pandas as pd\n",
    "import numpy as np\n",
    "\n",
    "test = pd.read_csv(\"C:/Users/muvil/Documents/Muvil/SUTD/Term 5/50.007 Machine Learning/Project/Data/test_tfidf_features.csv\")\n",
    "\n",
    "# Read the first set of predictions\n",
    "y_pred1 = pd.read_csv(\"C:/Users/muvil/Documents/Muvil/SUTD/Term 5/50.007 Machine Learning/ML/Task 3/LogReg_Prediction.csv\")\n",
    "y_pred1 = y_pred1['label'].values\n",
    "\n",
    "# Read the second set of predictions\n",
    "y_pred2 = pd.read_csv(\"C:/Users/muvil/Documents/Muvil/SUTD/Term 5/50.007 Machine Learning/ML/Task 3/gbdt.csv\")\n",
    "y_pred2 = y_pred2['label'].values\n",
    "\n",
    "# Read the third set of predictions\n",
    "y_pred3 = pd.read_csv(\"C:/Users/muvil/Documents/Muvil/SUTD/Term 5/50.007 Machine Learning/ML/Task 3/forest_predictions.csv\")\n",
    "y_pred3 = y_pred3['label'].values\n",
    "\n",
    "# Read the fourth set of predictions\n",
    "y_pred4 = pd.read_csv(\"C:/Users/muvil/Documents/Muvil/SUTD/Term 5/50.007 Machine Learning/ML/Task 3/NB.csv\")\n",
    "y_pred4 = y_pred4['label'].values\n",
    "\n",
    "# Read the fifth set of predictions\n",
    "y_pred5 = pd.read_csv(\"C:/Users/muvil/Documents/Muvil/SUTD/Term 5/50.007 Machine Learning/ML/Task 3/svm.csv\")\n",
    "y_pred5 = y_pred5['label'].values\n",
    "\n",
    "# Combine predictions into a DataFrame for easier manipulation\n",
    "predictions_df = pd.DataFrame({\n",
    "    'id': test['id'],\n",
    "    'pred1': y_pred1,\n",
    "    'pred2': y_pred2,\n",
    "    'pred3': y_pred3,\n",
    "    'pred4': y_pred4,\n",
    "    'pred5': y_pred5\n",
    "})\n",
    "\n",
    "# Perform majority voting\n",
    "predictions_df['label'] = (predictions_df[['pred1', 'pred2', 'pred3', 'pred4', 'pred5']].sum(axis=1) > 1).astype(int)\n",
    "\n",
    "#Display the first few rows of the final predictions\n",
    "print(predictions_df.head())\n",
    "\n",
    "# Save the final predictions to a CSV file\n",
    "final_df = predictions_df[['id', 'label']]\n",
    "final_df.to_csv('final_predictions.csv', index=False)"
   ]
  }
 ],
 "metadata": {
  "kernelspec": {
   "display_name": "base",
   "language": "python",
   "name": "python3"
  },
  "language_info": {
   "codemirror_mode": {
    "name": "ipython",
    "version": 3
   },
   "file_extension": ".py",
   "mimetype": "text/x-python",
   "name": "python",
   "nbconvert_exporter": "python",
   "pygments_lexer": "ipython3",
   "version": "3.9.13"
  }
 },
 "nbformat": 4,
 "nbformat_minor": 2
}
